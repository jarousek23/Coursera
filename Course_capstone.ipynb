{
 "metadata": {
  "language_info": {
   "codemirror_mode": {
    "name": "ipython",
    "version": 3
   },
   "file_extension": ".py",
   "mimetype": "text/x-python",
   "name": "python",
   "nbconvert_exporter": "python",
   "pygments_lexer": "ipython3",
   "version": "3.6.12-final"
  },
  "orig_nbformat": 2,
  "kernelspec": {
   "name": "python3",
   "display_name": "Python 3.6.12 64-bit ('PE_env': conda)",
   "metadata": {
    "interpreter": {
     "hash": "f0fabf18a219be603a73e4749500bf22eb34016c35ee17e319e232ed759bd8ff"
    }
   }
  }
 },
 "nbformat": 4,
 "nbformat_minor": 2,
 "cells": [
  {
   "cell_type": "code",
   "execution_count": 1,
   "metadata": {},
   "outputs": [],
   "source": [
    "from IPython.display import display\n",
    "from tqdm import tqdm"
   ]
  },
  {
   "source": [
    "# Small Czech Cities Classification\n",
    "\n",
    "Let’s say, that someone has several job offers in different towns. Those offers are almost the same, but each is in different city so he will have to move. He loves his city, so he wants to move to some similar place. The task is to find out what smaller cities in Czech Republic are similar?"
   ],
   "cell_type": "markdown",
   "metadata": {}
  },
  {
   "source": [
    "\n",
    "## Creating dataset\n",
    "------\n",
    "Before we can start with machine learning algorithms, we have to create and prepare our dataset. This is what I will do in thist part. So after importing necessary libraries this code will scarpe [wikipedia page](https://cs.wikipedia.org/wiki/Seznam_m%C4%9Bst_v_%C4%8Cesku_podle_po%C4%8Dtu_obyvatel) containing needed data. To do so I have used pandas function `read_html`, which works like magic."
   ],
   "cell_type": "markdown",
   "metadata": {}
  },
  {
   "cell_type": "code",
   "execution_count": 2,
   "metadata": {},
   "outputs": [],
   "source": [
    "import pandas as pd \n",
    "import numpy as np\n",
    "\n",
    "tqdm.pandas()\n",
    "import requests\n",
    "\n",
    "from geopy.geocoders import Nominatim\n",
    "import re\n",
    "geolocator = Nominatim(user_agent=\"foursquare_agent\")\n",
    "\n",
    "import folium"
   ]
  },
  {
   "cell_type": "code",
   "execution_count": 27,
   "metadata": {},
   "outputs": [
    {
     "output_type": "execute_result",
     "data": {
      "text/plain": [
       "                  City Population   Area\n",
       "0                Praha  1 324 277  49621\n",
       "1                 Brno    381 346  23018\n",
       "2              Ostrava    287 968  21423\n",
       "3                Plzeň    174 842  13767\n",
       "4              Liberec    104 802  10609\n",
       "5              Olomouc    100 663  10333\n",
       "6     České Budějovice     94 463    556\n",
       "7       Hradec Králové     92 939  10569\n",
       "8       Ústí nad Labem     92 716   9397\n",
       "9            Pardubice     91 727   8266\n",
       "10                Zlín     74 935  10283\n",
       "11             Havířov     71 200   3208\n",
       "12              Kladno     69 337   3697\n",
       "13                Most     66 034   8694\n",
       "14               Opava     56 450   9061\n",
       "15       Frýdek-Místek     55 557   5156\n",
       "16             Karviná     52 128   5752\n",
       "17             Jihlava     51 216   8787\n",
       "18             Teplice     49 731   2378\n",
       "19            Chomutov     48 635   2925\n",
       "20               Děčín     48 594   1177\n",
       "21        Karlovy Vary     48 479   5908\n",
       "22  Jablonec nad Nisou     45 773   3138\n",
       "23      Mladá Boleslav     44 740    289\n",
       "24           Prostějov     43 651   3904\n",
       "25              Přerov     42 871   5845\n",
       "26          Česká Lípa     37 525    661\n",
       "27              Třebíč     35 451   5759"
      ],
      "text/html": "<div>\n<style scoped>\n    .dataframe tbody tr th:only-of-type {\n        vertical-align: middle;\n    }\n\n    .dataframe tbody tr th {\n        vertical-align: top;\n    }\n\n    .dataframe thead th {\n        text-align: right;\n    }\n</style>\n<table border=\"1\" class=\"dataframe\">\n  <thead>\n    <tr style=\"text-align: right;\">\n      <th></th>\n      <th>City</th>\n      <th>Population</th>\n      <th>Area</th>\n    </tr>\n  </thead>\n  <tbody>\n    <tr>\n      <th>0</th>\n      <td>Praha</td>\n      <td>1 324 277</td>\n      <td>49621</td>\n    </tr>\n    <tr>\n      <th>1</th>\n      <td>Brno</td>\n      <td>381 346</td>\n      <td>23018</td>\n    </tr>\n    <tr>\n      <th>2</th>\n      <td>Ostrava</td>\n      <td>287 968</td>\n      <td>21423</td>\n    </tr>\n    <tr>\n      <th>3</th>\n      <td>Plzeň</td>\n      <td>174 842</td>\n      <td>13767</td>\n    </tr>\n    <tr>\n      <th>4</th>\n      <td>Liberec</td>\n      <td>104 802</td>\n      <td>10609</td>\n    </tr>\n    <tr>\n      <th>5</th>\n      <td>Olomouc</td>\n      <td>100 663</td>\n      <td>10333</td>\n    </tr>\n    <tr>\n      <th>6</th>\n      <td>České Budějovice</td>\n      <td>94 463</td>\n      <td>556</td>\n    </tr>\n    <tr>\n      <th>7</th>\n      <td>Hradec Králové</td>\n      <td>92 939</td>\n      <td>10569</td>\n    </tr>\n    <tr>\n      <th>8</th>\n      <td>Ústí nad Labem</td>\n      <td>92 716</td>\n      <td>9397</td>\n    </tr>\n    <tr>\n      <th>9</th>\n      <td>Pardubice</td>\n      <td>91 727</td>\n      <td>8266</td>\n    </tr>\n    <tr>\n      <th>10</th>\n      <td>Zlín</td>\n      <td>74 935</td>\n      <td>10283</td>\n    </tr>\n    <tr>\n      <th>11</th>\n      <td>Havířov</td>\n      <td>71 200</td>\n      <td>3208</td>\n    </tr>\n    <tr>\n      <th>12</th>\n      <td>Kladno</td>\n      <td>69 337</td>\n      <td>3697</td>\n    </tr>\n    <tr>\n      <th>13</th>\n      <td>Most</td>\n      <td>66 034</td>\n      <td>8694</td>\n    </tr>\n    <tr>\n      <th>14</th>\n      <td>Opava</td>\n      <td>56 450</td>\n      <td>9061</td>\n    </tr>\n    <tr>\n      <th>15</th>\n      <td>Frýdek-Místek</td>\n      <td>55 557</td>\n      <td>5156</td>\n    </tr>\n    <tr>\n      <th>16</th>\n      <td>Karviná</td>\n      <td>52 128</td>\n      <td>5752</td>\n    </tr>\n    <tr>\n      <th>17</th>\n      <td>Jihlava</td>\n      <td>51 216</td>\n      <td>8787</td>\n    </tr>\n    <tr>\n      <th>18</th>\n      <td>Teplice</td>\n      <td>49 731</td>\n      <td>2378</td>\n    </tr>\n    <tr>\n      <th>19</th>\n      <td>Chomutov</td>\n      <td>48 635</td>\n      <td>2925</td>\n    </tr>\n    <tr>\n      <th>20</th>\n      <td>Děčín</td>\n      <td>48 594</td>\n      <td>1177</td>\n    </tr>\n    <tr>\n      <th>21</th>\n      <td>Karlovy Vary</td>\n      <td>48 479</td>\n      <td>5908</td>\n    </tr>\n    <tr>\n      <th>22</th>\n      <td>Jablonec nad Nisou</td>\n      <td>45 773</td>\n      <td>3138</td>\n    </tr>\n    <tr>\n      <th>23</th>\n      <td>Mladá Boleslav</td>\n      <td>44 740</td>\n      <td>289</td>\n    </tr>\n    <tr>\n      <th>24</th>\n      <td>Prostějov</td>\n      <td>43 651</td>\n      <td>3904</td>\n    </tr>\n    <tr>\n      <th>25</th>\n      <td>Přerov</td>\n      <td>42 871</td>\n      <td>5845</td>\n    </tr>\n    <tr>\n      <th>26</th>\n      <td>Česká Lípa</td>\n      <td>37 525</td>\n      <td>661</td>\n    </tr>\n    <tr>\n      <th>27</th>\n      <td>Třebíč</td>\n      <td>35 451</td>\n      <td>5759</td>\n    </tr>\n  </tbody>\n</table>\n</div>"
     },
     "metadata": {},
     "execution_count": 27
    }
   ],
   "source": [
    "link = 'https://cs.wikipedia.org/wiki/Seznam_m%C4%9Bst_v_%C4%8Cesku_podle_po%C4%8Dtu_obyvatel'\n",
    "\n",
    "r=requests.get(link)\n",
    "\n",
    "tables = pd.read_html(r.text)\n",
    "raw_df = tables[0]\n",
    "raw_df.rename(columns=dict(zip(raw_df.columns, ['Number', 'City', 'Pic', 'Population', 'Area', 'Distinct'])), inplace = True)\n",
    "raw_df.pop('Number')\n",
    "raw_df.pop('Pic')\n",
    "raw_df.pop('Distinct')\n",
    "raw_df.head(18)"
   ]
  },
  {
   "source": [
    "Since I want only to cluster smalle cities, I will drop first two largest ones. I also dont want to work with too small cities, so I will only use cities with more than 50k population. For those cities I have attached theyr location using `Nominatim` from `geopy.geocoders` library."
   ],
   "cell_type": "markdown",
   "metadata": {}
  },
  {
   "cell_type": "code",
   "execution_count": 40,
   "metadata": {},
   "outputs": [
    {
     "output_type": "stream",
     "name": "stderr",
     "text": [
      "100%|██████████| 25/25 [00:12<00:00,  2.05it/s]\n"
     ]
    }
   ],
   "source": [
    "df = raw_df.iloc[3:28].reset_index(drop=True)\n",
    "\n",
    "def get_loc(city):\n",
    "    loc = geolocator.geocode(city)\n",
    "    return (loc.longitude, loc.latitude)\n",
    "\n",
    "lng_lat = df['City'].progress_apply(get_loc)\n",
    "df['lng'] = lng_lat.apply(lambda x:x[0])\n",
    "df['lat'] = lng_lat.apply(lambda x:x[1]) "
   ]
  },
  {
   "cell_type": "code",
   "execution_count": 41,
   "metadata": {},
   "outputs": [
    {
     "output_type": "execute_result",
     "data": {
      "text/plain": [
       "               City Population   Area        lng        lat\n",
       "0             Plzeň    174 842  13767  13.377525  49.747741\n",
       "1           Liberec    104 802  10609  15.058395  50.770265\n",
       "2           Olomouc    100 663  10333  17.251143  49.594057\n",
       "3  České Budějovice     94 463    556  14.474285  48.974736\n",
       "4    Hradec Králové     92 939  10569  15.832751  50.209211"
      ],
      "text/html": "<div>\n<style scoped>\n    .dataframe tbody tr th:only-of-type {\n        vertical-align: middle;\n    }\n\n    .dataframe tbody tr th {\n        vertical-align: top;\n    }\n\n    .dataframe thead th {\n        text-align: right;\n    }\n</style>\n<table border=\"1\" class=\"dataframe\">\n  <thead>\n    <tr style=\"text-align: right;\">\n      <th></th>\n      <th>City</th>\n      <th>Population</th>\n      <th>Area</th>\n      <th>lng</th>\n      <th>lat</th>\n    </tr>\n  </thead>\n  <tbody>\n    <tr>\n      <th>0</th>\n      <td>Plzeň</td>\n      <td>174 842</td>\n      <td>13767</td>\n      <td>13.377525</td>\n      <td>49.747741</td>\n    </tr>\n    <tr>\n      <th>1</th>\n      <td>Liberec</td>\n      <td>104 802</td>\n      <td>10609</td>\n      <td>15.058395</td>\n      <td>50.770265</td>\n    </tr>\n    <tr>\n      <th>2</th>\n      <td>Olomouc</td>\n      <td>100 663</td>\n      <td>10333</td>\n      <td>17.251143</td>\n      <td>49.594057</td>\n    </tr>\n    <tr>\n      <th>3</th>\n      <td>České Budějovice</td>\n      <td>94 463</td>\n      <td>556</td>\n      <td>14.474285</td>\n      <td>48.974736</td>\n    </tr>\n    <tr>\n      <th>4</th>\n      <td>Hradec Králové</td>\n      <td>92 939</td>\n      <td>10569</td>\n      <td>15.832751</td>\n      <td>50.209211</td>\n    </tr>\n  </tbody>\n</table>\n</div>"
     },
     "metadata": {},
     "execution_count": 41
    }
   ],
   "source": [
    "df.head()"
   ]
  },
  {
   "source": [
    "To see what data we have right now I have used `folium` to show cities on map."
   ],
   "cell_type": "markdown",
   "metadata": {}
  },
  {
   "cell_type": "code",
   "execution_count": 42,
   "metadata": {},
   "outputs": [],
   "source": [
    "longitude = (df['lng'].max()+df['lng'].min())/2\n",
    "lattitude = (df['lat'].max()+df['lat'].min())/2"
   ]
  },
  {
   "cell_type": "code",
   "execution_count": 43,
   "metadata": {},
   "outputs": [
    {
     "output_type": "display_data",
     "data": {
      "text/plain": "<branca.element.Figure at 0x15fa33a1b00>",
      "text/html": "<iframe src=\"about:blank\" width=\"600\" height=\"400\"style=\"border:none !important;\" data-html=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 onload=\"this.contentDocument.open();this.contentDocument.write(atob(this.getAttribute('data-html')));this.contentDocument.close();\" \"allowfullscreen\" \"webkitallowfullscreen\" \"mozallowfullscreen\"></iframe>"
     },
     "metadata": {}
    }
   ],
   "source": [
    "f = folium.Figure(width=600, height=400)\n",
    "my_map = folium.Map(location=[lattitude, longitude], zoom_start=6).add_to(f)\n",
    "\n",
    "hoods = folium.map.FeatureGroup()\n",
    "for index, row in df.iterrows():\n",
    "    label = '{}'.format(row['City'])\n",
    "    label = folium.Popup(label)\n",
    "    hoods.add_child(\n",
    "        folium.CircleMarker(\n",
    "        [row['lat'],row['lng']],\n",
    "        radius=5,\n",
    "        popup=label,\n",
    "        parse_html=False)\n",
    "    )\n",
    "\n",
    "my_map.add_child(hoods)\n",
    "display(f)"
   ]
  },
  {
   "source": [
    "To get infomation about venues in all cities I have used FourSquare API. "
   ],
   "cell_type": "markdown",
   "metadata": {}
  },
  {
   "cell_type": "code",
   "execution_count": 44,
   "metadata": {},
   "outputs": [],
   "source": [
    "CLIENT_ID = 'ZGBSSJDBVOA5V1KT5BKZJSLJMN2RIRJDS0BRABFHTD0XXVKJ'\n",
    "CLIENT_SECRET = 'PLPRZCGGX3BFDT13Y4FPS2RGSIA2L3PTIQHGMD5MMMM3ZHE4'\n",
    "ACCESS_TOKEN = '' # your FourSquare Access Token\n",
    "VERSION = '20190101'\n",
    "LIMIT = 300"
   ]
  },
  {
   "cell_type": "code",
   "execution_count": 45,
   "metadata": {},
   "outputs": [],
   "source": [
    "filtered_columns = ['categories']\n",
    "\n",
    "venues = pd.DataFrame()\n",
    "\n",
    "radius = 5000\n",
    "\n",
    "for index, row in df.iterrows():\n",
    "    # url = 'https://api.foursquare.com/v2/venues/search?near={}&client_id={}&client_secret={}&v={}&limit={}'.format(row['City'], CLIENT_ID, CLIENT_SECRET, VERSION,LIMIT)\n",
    "    # url = 'https://api.foursquare.com/v2/venues/search?&ll={},{}&client_id={}&client_secret={}&v={},&limit={}'.format(row['City'], CLIENT_ID, CLIENT_SECRET, VERSION,LIMIT)\n",
    "    url = 'https://api.foursquare.com/v2/venues/search?client_id={}&client_secret={}&ll={},{},&llAcc=1&v={}&radius={}&limit={}'.format(CLIENT_ID, CLIENT_SECRET, row['lat'], row['lng'], VERSION, radius, LIMIT)\n",
    "    results = requests.get(url).json()\n",
    "    # print(len(results['response']['venues']))\n",
    "    venues_city = pd.json_normalize(results['response']['venues']).loc[:, filtered_columns]\n",
    "    venues = venues.append(pd.concat([pd.DataFrame([row['City']]*len(venues_city), columns=['City']), venues_city], axis = 1))"
   ]
  },
  {
   "cell_type": "code",
   "execution_count": 46,
   "metadata": {},
   "outputs": [
    {
     "output_type": "stream",
     "name": "stderr",
     "text": [
      "100%|██████████| 2996/2996 [00:00<00:00, 106996.82it/s]\n"
     ]
    },
    {
     "output_type": "display_data",
     "data": {
      "text/plain": "    City                  categories\n0  Plzeň  Tourist Information Center\n1  Plzeň                       Plaza\n2  Plzeň         Monument / Landmark\n3  Plzeň                    Fountain\n4  Plzeň                   Bookstore",
      "text/html": "<div>\n<style scoped>\n    .dataframe tbody tr th:only-of-type {\n        vertical-align: middle;\n    }\n\n    .dataframe tbody tr th {\n        vertical-align: top;\n    }\n\n    .dataframe thead th {\n        text-align: right;\n    }\n</style>\n<table border=\"1\" class=\"dataframe\">\n  <thead>\n    <tr style=\"text-align: right;\">\n      <th></th>\n      <th>City</th>\n      <th>categories</th>\n    </tr>\n  </thead>\n  <tbody>\n    <tr>\n      <th>0</th>\n      <td>Plzeň</td>\n      <td>Tourist Information Center</td>\n    </tr>\n    <tr>\n      <th>1</th>\n      <td>Plzeň</td>\n      <td>Plaza</td>\n    </tr>\n    <tr>\n      <th>2</th>\n      <td>Plzeň</td>\n      <td>Monument / Landmark</td>\n    </tr>\n    <tr>\n      <th>3</th>\n      <td>Plzeň</td>\n      <td>Fountain</td>\n    </tr>\n    <tr>\n      <th>4</th>\n      <td>Plzeň</td>\n      <td>Bookstore</td>\n    </tr>\n  </tbody>\n</table>\n</div>"
     },
     "metadata": {}
    },
    {
     "output_type": "execute_result",
     "data": {
      "text/plain": [
       "1877"
      ]
     },
     "metadata": {},
     "execution_count": 46
    }
   ],
   "source": [
    "def get_category_type(row):\n",
    "    try:\n",
    "        categories_list = row['categories']\n",
    "    except:\n",
    "        categories_list = row['venue.categories']\n",
    "        \n",
    "    if len(categories_list) == 0:\n",
    "        return None\n",
    "    else:\n",
    "        return categories_list[0]['name']\n",
    "\n",
    "venues['categories'] = venues.progress_apply(get_category_type, axis=1)\n",
    "display(venues.head())\n",
    "venues.dropna(inplace= True, subset= ['categories'])\n",
    "venues.head()\n",
    "\n",
    "venues.drop_duplicates(inplace=True)\n",
    "len(venues)"
   ]
  },
  {
   "source": [
    "Now in `venues` variable there is category for each venue in a city. Next part of code will create pivot table with count of venues in each cathegory for each city."
   ],
   "cell_type": "markdown",
   "metadata": {}
  },
  {
   "cell_type": "code",
   "execution_count": 47,
   "metadata": {},
   "outputs": [
    {
     "output_type": "execute_result",
     "data": {
      "text/plain": [
       "             City  ATM  Accessories Store  Adult Education Center  \\\n",
       "0        Chomutov  0.0                0.0                     0.0   \n",
       "1           Děčín  0.0                1.0                     0.0   \n",
       "2   Frýdek-Místek  1.0                0.0                     0.0   \n",
       "3         Havířov  0.0                0.0                     0.0   \n",
       "4  Hradec Králové  0.0                0.0                     0.0   \n",
       "\n",
       "   Advertising Agency  Alternative Healer  American Restaurant  \\\n",
       "0                 0.0                 0.0                  1.0   \n",
       "1                 0.0                 0.0                  0.0   \n",
       "2                 0.0                 0.0                  1.0   \n",
       "3                 0.0                 0.0                  0.0   \n",
       "4                 1.0                 0.0                  0.0   \n",
       "\n",
       "   Animal Shelter  Antique Shop  Arcade  ...  Water Park  Waterfront  \\\n",
       "0             0.0           0.0     0.0  ...         0.0         0.0   \n",
       "1             1.0           0.0     0.0  ...         0.0         0.0   \n",
       "2             0.0           0.0     0.0  ...         0.0         0.0   \n",
       "3             0.0           0.0     0.0  ...         0.0         0.0   \n",
       "4             0.0           0.0     0.0  ...         0.0         0.0   \n",
       "\n",
       "   Wedding Hall  Well  Whisky Bar  Wine Bar  Wine Shop  Winery  Women's Store  \\\n",
       "0           0.0   0.0         0.0       0.0        0.0     0.0            0.0   \n",
       "1           0.0   0.0         0.0       0.0        0.0     0.0            0.0   \n",
       "2           0.0   0.0         0.0       1.0        0.0     0.0            1.0   \n",
       "3           0.0   0.0         0.0       0.0        0.0     0.0            0.0   \n",
       "4           0.0   1.0         1.0       1.0        0.0     1.0            0.0   \n",
       "\n",
       "   Yoga Studio  \n",
       "0          0.0  \n",
       "1          0.0  \n",
       "2          0.0  \n",
       "3          0.0  \n",
       "4          0.0  \n",
       "\n",
       "[5 rows x 371 columns]"
      ],
      "text/html": "<div>\n<style scoped>\n    .dataframe tbody tr th:only-of-type {\n        vertical-align: middle;\n    }\n\n    .dataframe tbody tr th {\n        vertical-align: top;\n    }\n\n    .dataframe thead th {\n        text-align: right;\n    }\n</style>\n<table border=\"1\" class=\"dataframe\">\n  <thead>\n    <tr style=\"text-align: right;\">\n      <th></th>\n      <th>City</th>\n      <th>ATM</th>\n      <th>Accessories Store</th>\n      <th>Adult Education Center</th>\n      <th>Advertising Agency</th>\n      <th>Alternative Healer</th>\n      <th>American Restaurant</th>\n      <th>Animal Shelter</th>\n      <th>Antique Shop</th>\n      <th>Arcade</th>\n      <th>...</th>\n      <th>Water Park</th>\n      <th>Waterfront</th>\n      <th>Wedding Hall</th>\n      <th>Well</th>\n      <th>Whisky Bar</th>\n      <th>Wine Bar</th>\n      <th>Wine Shop</th>\n      <th>Winery</th>\n      <th>Women's Store</th>\n      <th>Yoga Studio</th>\n    </tr>\n  </thead>\n  <tbody>\n    <tr>\n      <th>0</th>\n      <td>Chomutov</td>\n      <td>0.0</td>\n      <td>0.0</td>\n      <td>0.0</td>\n      <td>0.0</td>\n      <td>0.0</td>\n      <td>1.0</td>\n      <td>0.0</td>\n      <td>0.0</td>\n      <td>0.0</td>\n      <td>...</td>\n      <td>0.0</td>\n      <td>0.0</td>\n      <td>0.0</td>\n      <td>0.0</td>\n      <td>0.0</td>\n      <td>0.0</td>\n      <td>0.0</td>\n      <td>0.0</td>\n      <td>0.0</td>\n      <td>0.0</td>\n    </tr>\n    <tr>\n      <th>1</th>\n      <td>Děčín</td>\n      <td>0.0</td>\n      <td>1.0</td>\n      <td>0.0</td>\n      <td>0.0</td>\n      <td>0.0</td>\n      <td>0.0</td>\n      <td>1.0</td>\n      <td>0.0</td>\n      <td>0.0</td>\n      <td>...</td>\n      <td>0.0</td>\n      <td>0.0</td>\n      <td>0.0</td>\n      <td>0.0</td>\n      <td>0.0</td>\n      <td>0.0</td>\n      <td>0.0</td>\n      <td>0.0</td>\n      <td>0.0</td>\n      <td>0.0</td>\n    </tr>\n    <tr>\n      <th>2</th>\n      <td>Frýdek-Místek</td>\n      <td>1.0</td>\n      <td>0.0</td>\n      <td>0.0</td>\n      <td>0.0</td>\n      <td>0.0</td>\n      <td>1.0</td>\n      <td>0.0</td>\n      <td>0.0</td>\n      <td>0.0</td>\n      <td>...</td>\n      <td>0.0</td>\n      <td>0.0</td>\n      <td>0.0</td>\n      <td>0.0</td>\n      <td>0.0</td>\n      <td>1.0</td>\n      <td>0.0</td>\n      <td>0.0</td>\n      <td>1.0</td>\n      <td>0.0</td>\n    </tr>\n    <tr>\n      <th>3</th>\n      <td>Havířov</td>\n      <td>0.0</td>\n      <td>0.0</td>\n      <td>0.0</td>\n      <td>0.0</td>\n      <td>0.0</td>\n      <td>0.0</td>\n      <td>0.0</td>\n      <td>0.0</td>\n      <td>0.0</td>\n      <td>...</td>\n      <td>0.0</td>\n      <td>0.0</td>\n      <td>0.0</td>\n      <td>0.0</td>\n      <td>0.0</td>\n      <td>0.0</td>\n      <td>0.0</td>\n      <td>0.0</td>\n      <td>0.0</td>\n      <td>0.0</td>\n    </tr>\n    <tr>\n      <th>4</th>\n      <td>Hradec Králové</td>\n      <td>0.0</td>\n      <td>0.0</td>\n      <td>0.0</td>\n      <td>1.0</td>\n      <td>0.0</td>\n      <td>0.0</td>\n      <td>0.0</td>\n      <td>0.0</td>\n      <td>0.0</td>\n      <td>...</td>\n      <td>0.0</td>\n      <td>0.0</td>\n      <td>0.0</td>\n      <td>1.0</td>\n      <td>1.0</td>\n      <td>1.0</td>\n      <td>0.0</td>\n      <td>1.0</td>\n      <td>0.0</td>\n      <td>0.0</td>\n    </tr>\n  </tbody>\n</table>\n<p>5 rows × 371 columns</p>\n</div>"
     },
     "metadata": {},
     "execution_count": 47
    }
   ],
   "source": [
    "categories = venues['categories'].drop_duplicates().values\n",
    "venues_pivot = venues[['City', 'categories']].pivot_table(index='City', columns= 'categories', aggfunc=np.count_nonzero).fillna(0)/2\n",
    "venues_pivot = pd.DataFrame(venues_pivot.to_records())\n",
    "venues_pivot.head()"
   ]
  },
  {
   "source": [
    "## Clustering\n",
    "\n",
    "In this part I will cluster our cities by number of venues of certain category in each city. To do so, I have used kmeans implemented in sklearn library."
   ],
   "cell_type": "markdown",
   "metadata": {}
  },
  {
   "cell_type": "code",
   "execution_count": 48,
   "metadata": {},
   "outputs": [],
   "source": [
    "from sklearn.cluster import KMeans "
   ]
  },
  {
   "cell_type": "code",
   "execution_count": 57,
   "metadata": {},
   "outputs": [],
   "source": [
    "kclusters = 6\n",
    "\n",
    "# run k-means clustering\n",
    "kmeans = KMeans(n_clusters=kclusters, random_state=0).fit(venues_pivot[venues_pivot.columns[1:]])"
   ]
  },
  {
   "cell_type": "code",
   "execution_count": 58,
   "metadata": {},
   "outputs": [],
   "source": [
    "try:\n",
    "    df.insert(0, 'Cluster Labels', kmeans.labels_)\n",
    "except ValueError as e:\n",
    "    df['Cluster Labels'] = kmeans.labels_"
   ]
  },
  {
   "source": [
    "Now I will just show results on map"
   ],
   "cell_type": "markdown",
   "metadata": {}
  },
  {
   "cell_type": "code",
   "execution_count": 59,
   "metadata": {},
   "outputs": [],
   "source": [
    "import matplotlib.cm as cm\n",
    "import matplotlib.colors as colors"
   ]
  },
  {
   "cell_type": "code",
   "execution_count": 60,
   "metadata": {},
   "outputs": [
    {
     "output_type": "display_data",
     "data": {
      "text/plain": "<branca.element.Figure at 0x15fa0f5a828>",
      "text/html": "<iframe src=\"about:blank\" width=\"600\" height=\"400\"style=\"border:none !important;\" data-html=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 onload=\"this.contentDocument.open();this.contentDocument.write(atob(this.getAttribute('data-html')));this.contentDocument.close();\" \"allowfullscreen\" \"webkitallowfullscreen\" \"mozallowfullscreen\"></iframe>"
     },
     "metadata": {}
    }
   ],
   "source": [
    "f2 = folium.Figure(width=600, height=400)\n",
    "my_map2 = folium.Map(location=[lattitude, longitude], zoom_start=6).add_to(f2)\n",
    "\n",
    "# set color scheme for the clusters\n",
    "x = np.arange(kclusters)\n",
    "ys = [i + x + (i*x)**2 for i in range(kclusters)]\n",
    "colors_array = cm.rainbow(np.linspace(0, 1, len(ys)))\n",
    "rainbow = [colors.rgb2hex(i) for i in colors_array]\n",
    "\n",
    "hoods = folium.map.FeatureGroup()\n",
    "for index, row in df.iterrows():\n",
    "    cluster = row['Cluster Labels']\n",
    "    label = '{}'.format(row['City'])\n",
    "    label = folium.Popup(label)\n",
    "    hoods.add_child(\n",
    "        folium.CircleMarker(\n",
    "        [row['lat'],row['lng']],\n",
    "        radius=5,\n",
    "        popup=label,\n",
    "        color=rainbow[cluster-1],\n",
    "        fill=True,\n",
    "        fill_color=rainbow[cluster-1],\n",
    "        fill_opacity=0.7,\n",
    "        parse_html=False)\n",
    "    )\n",
    "\n",
    "my_map2.add_child(hoods)\n",
    "display(f2)"
   ]
  },
  {
   "cell_type": "code",
   "execution_count": null,
   "metadata": {},
   "outputs": [],
   "source": []
  }
 ]
}