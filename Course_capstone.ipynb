{
 "metadata": {
  "language_info": {
   "codemirror_mode": {
    "name": "ipython",
    "version": 3
   },
   "file_extension": ".py",
   "mimetype": "text/x-python",
   "name": "python",
   "nbconvert_exporter": "python",
   "pygments_lexer": "ipython3",
   "version": "3.6.12-final"
  },
  "orig_nbformat": 2,
  "kernelspec": {
   "name": "python3",
   "display_name": "Python 3.6.12 64-bit ('PE_env': conda)",
   "metadata": {
    "interpreter": {
     "hash": "f0fabf18a219be603a73e4749500bf22eb34016c35ee17e319e232ed759bd8ff"
    }
   }
  }
 },
 "nbformat": 4,
 "nbformat_minor": 2,
 "cells": [
  {
   "cell_type": "code",
   "execution_count": 1,
   "metadata": {},
   "outputs": [],
   "source": [
    "from IPython.display import display\n",
    "from tqdm import tqdm"
   ]
  },
  {
   "source": [
    "# Capstone project\n",
    "\n",
    "what to do?"
   ],
   "cell_type": "markdown",
   "metadata": {}
  },
  {
   "source": [
    "\n",
    "## Part 1 - Creating dataset\n",
    "------\n",
    "Before we can start with machine learning algorithms, we have to create and prepare our dataset. This is what I will do in thist part. So after importing necessary libraries this code will scarpe [wikipedia page](https://en.wikipedia.org/wiki/List_of_postal_codes_of_Canada:_M) containing needed data. To do so I have used pandas function `read_html`, which works like magic."
   ],
   "cell_type": "markdown",
   "metadata": {}
  },
  {
   "cell_type": "code",
   "execution_count": 48,
   "metadata": {},
   "outputs": [],
   "source": [
    "import pandas as pd \n",
    "import numpy as np\n",
    "\n",
    "tqdm.pandas()\n",
    "import requests\n",
    "\n",
    "from geopy.geocoders import Nominatim\n",
    "import re\n",
    "geolocator = Nominatim(user_agent=\"foursquare_agent\")\n",
    "\n",
    "import folium"
   ]
  },
  {
   "cell_type": "code",
   "execution_count": 64,
   "metadata": {},
   "outputs": [
    {
     "output_type": "execute_result",
     "data": {
      "text/plain": [
       "                City Population   Area\n",
       "0              Praha  1 324 277  49621\n",
       "1               Brno    381 346  23018\n",
       "2            Ostrava    287 968  21423\n",
       "3              Plzeň    174 842  13767\n",
       "4            Liberec    104 802  10609\n",
       "5            Olomouc    100 663  10333\n",
       "6   České Budějovice     94 463    556\n",
       "7     Hradec Králové     92 939  10569\n",
       "8     Ústí nad Labem     92 716   9397\n",
       "9          Pardubice     91 727   8266\n",
       "10              Zlín     74 935  10283\n",
       "11           Havířov     71 200   3208\n",
       "12            Kladno     69 337   3697\n",
       "13              Most     66 034   8694\n",
       "14             Opava     56 450   9061\n",
       "15     Frýdek-Místek     55 557   5156\n",
       "16           Karviná     52 128   5752\n",
       "17           Jihlava     51 216   8787"
      ],
      "text/html": "<div>\n<style scoped>\n    .dataframe tbody tr th:only-of-type {\n        vertical-align: middle;\n    }\n\n    .dataframe tbody tr th {\n        vertical-align: top;\n    }\n\n    .dataframe thead th {\n        text-align: right;\n    }\n</style>\n<table border=\"1\" class=\"dataframe\">\n  <thead>\n    <tr style=\"text-align: right;\">\n      <th></th>\n      <th>City</th>\n      <th>Population</th>\n      <th>Area</th>\n    </tr>\n  </thead>\n  <tbody>\n    <tr>\n      <th>0</th>\n      <td>Praha</td>\n      <td>1 324 277</td>\n      <td>49621</td>\n    </tr>\n    <tr>\n      <th>1</th>\n      <td>Brno</td>\n      <td>381 346</td>\n      <td>23018</td>\n    </tr>\n    <tr>\n      <th>2</th>\n      <td>Ostrava</td>\n      <td>287 968</td>\n      <td>21423</td>\n    </tr>\n    <tr>\n      <th>3</th>\n      <td>Plzeň</td>\n      <td>174 842</td>\n      <td>13767</td>\n    </tr>\n    <tr>\n      <th>4</th>\n      <td>Liberec</td>\n      <td>104 802</td>\n      <td>10609</td>\n    </tr>\n    <tr>\n      <th>5</th>\n      <td>Olomouc</td>\n      <td>100 663</td>\n      <td>10333</td>\n    </tr>\n    <tr>\n      <th>6</th>\n      <td>České Budějovice</td>\n      <td>94 463</td>\n      <td>556</td>\n    </tr>\n    <tr>\n      <th>7</th>\n      <td>Hradec Králové</td>\n      <td>92 939</td>\n      <td>10569</td>\n    </tr>\n    <tr>\n      <th>8</th>\n      <td>Ústí nad Labem</td>\n      <td>92 716</td>\n      <td>9397</td>\n    </tr>\n    <tr>\n      <th>9</th>\n      <td>Pardubice</td>\n      <td>91 727</td>\n      <td>8266</td>\n    </tr>\n    <tr>\n      <th>10</th>\n      <td>Zlín</td>\n      <td>74 935</td>\n      <td>10283</td>\n    </tr>\n    <tr>\n      <th>11</th>\n      <td>Havířov</td>\n      <td>71 200</td>\n      <td>3208</td>\n    </tr>\n    <tr>\n      <th>12</th>\n      <td>Kladno</td>\n      <td>69 337</td>\n      <td>3697</td>\n    </tr>\n    <tr>\n      <th>13</th>\n      <td>Most</td>\n      <td>66 034</td>\n      <td>8694</td>\n    </tr>\n    <tr>\n      <th>14</th>\n      <td>Opava</td>\n      <td>56 450</td>\n      <td>9061</td>\n    </tr>\n    <tr>\n      <th>15</th>\n      <td>Frýdek-Místek</td>\n      <td>55 557</td>\n      <td>5156</td>\n    </tr>\n    <tr>\n      <th>16</th>\n      <td>Karviná</td>\n      <td>52 128</td>\n      <td>5752</td>\n    </tr>\n    <tr>\n      <th>17</th>\n      <td>Jihlava</td>\n      <td>51 216</td>\n      <td>8787</td>\n    </tr>\n  </tbody>\n</table>\n</div>"
     },
     "metadata": {},
     "execution_count": 64
    }
   ],
   "source": [
    "link = 'https://cs.wikipedia.org/wiki/Seznam_m%C4%9Bst_v_%C4%8Cesku_podle_po%C4%8Dtu_obyvatel'\n",
    "\n",
    "r=requests.get(link)\n",
    "\n",
    "tables = pd.read_html(r.text)\n",
    "raw_df = tables[0]\n",
    "raw_df.rename(columns=dict(zip(raw_df.columns, ['Number', 'City', 'Pic', 'Population', 'Area', 'Distinct'])), inplace = True)\n",
    "raw_df.pop('Number')\n",
    "raw_df.pop('Pic')\n",
    "raw_df.pop('Distinct')\n",
    "raw_df.head(18)"
   ]
  },
  {
   "cell_type": "code",
   "execution_count": 65,
   "metadata": {},
   "outputs": [
    {
     "output_type": "stream",
     "name": "stderr",
     "text": [
      "100%|██████████| 15/15 [00:07<00:00,  2.00it/s]\n"
     ]
    }
   ],
   "source": [
    "df = raw_df.iloc[3:18].reset_index(drop=True)\n",
    "\n",
    "def get_loc(city):\n",
    "    loc = geolocator.geocode(city)\n",
    "    return (loc.longitude, loc.latitude)\n",
    "\n",
    "lng_lat = df['City'].progress_apply(get_loc)\n",
    "df['lng'] = lng_lat.apply(lambda x:x[0])\n",
    "df['lat'] = lng_lat.apply(lambda x:x[1]) "
   ]
  },
  {
   "cell_type": "code",
   "execution_count": 66,
   "metadata": {},
   "outputs": [
    {
     "output_type": "execute_result",
     "data": {
      "text/plain": [
       "               City Population   Area        lng        lat\n",
       "0             Plzeň    174 842  13767  13.377525  49.747741\n",
       "1           Liberec    104 802  10609  15.058395  50.770265\n",
       "2           Olomouc    100 663  10333  17.251143  49.594057\n",
       "3  České Budějovice     94 463    556  14.474285  48.974736\n",
       "4    Hradec Králové     92 939  10569  15.832751  50.209211"
      ],
      "text/html": "<div>\n<style scoped>\n    .dataframe tbody tr th:only-of-type {\n        vertical-align: middle;\n    }\n\n    .dataframe tbody tr th {\n        vertical-align: top;\n    }\n\n    .dataframe thead th {\n        text-align: right;\n    }\n</style>\n<table border=\"1\" class=\"dataframe\">\n  <thead>\n    <tr style=\"text-align: right;\">\n      <th></th>\n      <th>City</th>\n      <th>Population</th>\n      <th>Area</th>\n      <th>lng</th>\n      <th>lat</th>\n    </tr>\n  </thead>\n  <tbody>\n    <tr>\n      <th>0</th>\n      <td>Plzeň</td>\n      <td>174 842</td>\n      <td>13767</td>\n      <td>13.377525</td>\n      <td>49.747741</td>\n    </tr>\n    <tr>\n      <th>1</th>\n      <td>Liberec</td>\n      <td>104 802</td>\n      <td>10609</td>\n      <td>15.058395</td>\n      <td>50.770265</td>\n    </tr>\n    <tr>\n      <th>2</th>\n      <td>Olomouc</td>\n      <td>100 663</td>\n      <td>10333</td>\n      <td>17.251143</td>\n      <td>49.594057</td>\n    </tr>\n    <tr>\n      <th>3</th>\n      <td>České Budějovice</td>\n      <td>94 463</td>\n      <td>556</td>\n      <td>14.474285</td>\n      <td>48.974736</td>\n    </tr>\n    <tr>\n      <th>4</th>\n      <td>Hradec Králové</td>\n      <td>92 939</td>\n      <td>10569</td>\n      <td>15.832751</td>\n      <td>50.209211</td>\n    </tr>\n  </tbody>\n</table>\n</div>"
     },
     "metadata": {},
     "execution_count": 66
    }
   ],
   "source": [
    "df.head()"
   ]
  },
  {
   "cell_type": "code",
   "execution_count": 67,
   "metadata": {},
   "outputs": [],
   "source": [
    "longitude = (df['lng'].max()+df['lng'].min())/2\n",
    "lattitude = (df['lat'].max()+df['lat'].min())/2"
   ]
  },
  {
   "cell_type": "code",
   "execution_count": 138,
   "metadata": {},
   "outputs": [
    {
     "output_type": "display_data",
     "data": {
      "text/plain": "<branca.element.Figure at 0x1b34cebed30>",
      "text/html": "<iframe src=\"about:blank\" width=\"600\" height=\"400\"style=\"border:none !important;\" data-html=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 onload=\"this.contentDocument.open();this.contentDocument.write(atob(this.getAttribute('data-html')));this.contentDocument.close();\" \"allowfullscreen\" \"webkitallowfullscreen\" \"mozallowfullscreen\"></iframe>"
     },
     "metadata": {}
    }
   ],
   "source": [
    "f = folium.Figure(width=600, height=400)\n",
    "my_map = folium.Map(location=[lattitude, longitude], zoom_start=6).add_to(f)\n",
    "\n",
    "hoods = folium.map.FeatureGroup()\n",
    "for index, row in df.iterrows():\n",
    "    label = '{}'.format(row['City'])\n",
    "    label = folium.Popup(label)\n",
    "    hoods.add_child(\n",
    "        folium.CircleMarker(\n",
    "        [row['lat'],row['lng']],\n",
    "        radius=5,\n",
    "        popup=label,\n",
    "        parse_html=False)\n",
    "    )\n",
    "\n",
    "my_map.add_child(hoods)\n",
    "display(f)"
   ]
  },
  {
   "cell_type": "code",
   "execution_count": null,
   "metadata": {},
   "outputs": [],
   "source": []
  },
  {
   "cell_type": "code",
   "execution_count": 7,
   "metadata": {},
   "outputs": [],
   "source": [
    "import sklearn"
   ]
  },
  {
   "source": [
    "Using foursquare I will get as much venues as possible for each Toronto distinct. "
   ],
   "cell_type": "markdown",
   "metadata": {}
  },
  {
   "cell_type": "code",
   "execution_count": 164,
   "metadata": {},
   "outputs": [],
   "source": [
    "CLIENT_ID = 'ZGBSSJDBVOA5V1KT5BKZJSLJMN2RIRJDS0BRABFHTD0XXVKJ'\n",
    "CLIENT_SECRET = 'PLPRZCGGX3BFDT13Y4FPS2RGSIA2L3PTIQHGMD5MMMM3ZHE4'\n",
    "ACCESS_TOKEN = '' # your FourSquare Access Token\n",
    "VERSION = '20190101'\n",
    "LIMIT = 1000"
   ]
  },
  {
   "cell_type": "code",
   "execution_count": 166,
   "metadata": {},
   "outputs": [
    {
     "output_type": "stream",
     "name": "stdout",
     "text": [
      "122\n",
      "122\n",
      "127\n",
      "123\n",
      "125\n",
      "123\n",
      "120\n",
      "125\n",
      "39\n",
      "125\n",
      "126\n",
      "125\n",
      "119\n",
      "122\n",
      "125\n"
     ]
    }
   ],
   "source": [
    "filtered_columns = ['categories']\n",
    "\n",
    "venues = pd.DataFrame()\n",
    "\n",
    "radius = 1000\n",
    "\n",
    "for index, row in df.iterrows():\n",
    "    url = 'https://api.foursquare.com/v2/venues/search?client_id={}&client_secret={}&ll={},{},&llAcc=1&v={}&radius={}&limit={}'.format(CLIENT_ID, CLIENT_SECRET, row['lat'], row['lng'], VERSION, radius, LIMIT)\n",
    "    results = requests.get(url).json()\n",
    "    print(len(results['response']['venues']))\n",
    "    venues_city = pd.json_normalize(results['response']['venues']).loc[:, filtered_columns]\n",
    "    venues = venues.append(pd.concat([pd.DataFrame([row['City']]*len(venues_city), columns=['City']), venues_city], axis = 1))"
   ]
  },
  {
   "cell_type": "code",
   "execution_count": 167,
   "metadata": {},
   "outputs": [
    {
     "output_type": "stream",
     "name": "stderr",
     "text": [
      "100%|██████████| 1768/1768 [00:00<00:00, 93183.33it/s]\n"
     ]
    },
    {
     "output_type": "display_data",
     "data": {
      "text/plain": "    City                  categories\n0  Plzeň  Tourist Information Center\n1  Plzeň                       Plaza\n2  Plzeň                    Fountain\n3  Plzeň         Monument / Landmark\n4  Plzeň                         Bar",
      "text/html": "<div>\n<style scoped>\n    .dataframe tbody tr th:only-of-type {\n        vertical-align: middle;\n    }\n\n    .dataframe tbody tr th {\n        vertical-align: top;\n    }\n\n    .dataframe thead th {\n        text-align: right;\n    }\n</style>\n<table border=\"1\" class=\"dataframe\">\n  <thead>\n    <tr style=\"text-align: right;\">\n      <th></th>\n      <th>City</th>\n      <th>categories</th>\n    </tr>\n  </thead>\n  <tbody>\n    <tr>\n      <th>0</th>\n      <td>Plzeň</td>\n      <td>Tourist Information Center</td>\n    </tr>\n    <tr>\n      <th>1</th>\n      <td>Plzeň</td>\n      <td>Plaza</td>\n    </tr>\n    <tr>\n      <th>2</th>\n      <td>Plzeň</td>\n      <td>Fountain</td>\n    </tr>\n    <tr>\n      <th>3</th>\n      <td>Plzeň</td>\n      <td>Monument / Landmark</td>\n    </tr>\n    <tr>\n      <th>4</th>\n      <td>Plzeň</td>\n      <td>Bar</td>\n    </tr>\n  </tbody>\n</table>\n</div>"
     },
     "metadata": {}
    },
    {
     "output_type": "execute_result",
     "data": {
      "text/plain": [
       "1111"
      ]
     },
     "metadata": {},
     "execution_count": 167
    }
   ],
   "source": [
    "def get_category_type(row):\n",
    "    try:\n",
    "        categories_list = row['categories']\n",
    "    except:\n",
    "        categories_list = row['venue.categories']\n",
    "        \n",
    "    if len(categories_list) == 0:\n",
    "        return None\n",
    "    else:\n",
    "        return categories_list[0]['name']\n",
    "\n",
    "venues['categories'] = venues.progress_apply(get_category_type, axis=1)\n",
    "display(venues.head())\n",
    "venues.dropna(inplace= True, subset= ['categories'])\n",
    "venues.head()\n",
    "\n",
    "venues.drop_duplicates(inplace=True)\n",
    "len(venues)"
   ]
  },
  {
   "cell_type": "code",
   "execution_count": 174,
   "metadata": {},
   "outputs": [
    {
     "output_type": "execute_result",
     "data": {
      "text/plain": [
       "             City  ATM  Accessories Store  Adult Education Center  \\\n",
       "0   Frýdek-Místek  1.0                0.0                     0.0   \n",
       "1         Havířov  0.0                0.0                     0.0   \n",
       "2  Hradec Králové  0.0                0.0                     0.0   \n",
       "3         Jihlava  0.0                0.0                     0.0   \n",
       "4         Karviná  1.0                0.0                     0.0   \n",
       "\n",
       "   Advertising Agency  American Restaurant  Animal Shelter  Arcade  \\\n",
       "0                 0.0                  1.0             0.0     0.0   \n",
       "1                 0.0                  0.0             0.0     0.0   \n",
       "2                 1.0                  0.0             0.0     0.0   \n",
       "3                 0.0                  0.0             0.0     0.0   \n",
       "4                 0.0                  0.0             0.0     0.0   \n",
       "\n",
       "   Art Gallery  Art Museum  ...  Vietnamese Restaurant  Warehouse Store  \\\n",
       "0          0.0         0.0  ...                    0.0              0.0   \n",
       "1          0.0         0.0  ...                    0.0              0.0   \n",
       "2          1.0         0.0  ...                    0.0              0.0   \n",
       "3          1.0         1.0  ...                    0.0              0.0   \n",
       "4          0.0         0.0  ...                    1.0              1.0   \n",
       "\n",
       "   Wedding Hall  Well  Whisky Bar  Wine Bar  Wine Shop  Winery  Women's Store  \\\n",
       "0           0.0   0.0         0.0       1.0        0.0     0.0            1.0   \n",
       "1           0.0   0.0         0.0       0.0        0.0     0.0            0.0   \n",
       "2           0.0   1.0         1.0       1.0        0.0     1.0            0.0   \n",
       "3           0.0   0.0         0.0       0.0        1.0     0.0            0.0   \n",
       "4           0.0   0.0         0.0       0.0        0.0     0.0            1.0   \n",
       "\n",
       "   Yoga Studio  \n",
       "0          0.0  \n",
       "1          0.0  \n",
       "2          0.0  \n",
       "3          0.0  \n",
       "4          0.0  \n",
       "\n",
       "[5 rows x 312 columns]"
      ],
      "text/html": "<div>\n<style scoped>\n    .dataframe tbody tr th:only-of-type {\n        vertical-align: middle;\n    }\n\n    .dataframe tbody tr th {\n        vertical-align: top;\n    }\n\n    .dataframe thead th {\n        text-align: right;\n    }\n</style>\n<table border=\"1\" class=\"dataframe\">\n  <thead>\n    <tr style=\"text-align: right;\">\n      <th></th>\n      <th>City</th>\n      <th>ATM</th>\n      <th>Accessories Store</th>\n      <th>Adult Education Center</th>\n      <th>Advertising Agency</th>\n      <th>American Restaurant</th>\n      <th>Animal Shelter</th>\n      <th>Arcade</th>\n      <th>Art Gallery</th>\n      <th>Art Museum</th>\n      <th>...</th>\n      <th>Vietnamese Restaurant</th>\n      <th>Warehouse Store</th>\n      <th>Wedding Hall</th>\n      <th>Well</th>\n      <th>Whisky Bar</th>\n      <th>Wine Bar</th>\n      <th>Wine Shop</th>\n      <th>Winery</th>\n      <th>Women's Store</th>\n      <th>Yoga Studio</th>\n    </tr>\n  </thead>\n  <tbody>\n    <tr>\n      <th>0</th>\n      <td>Frýdek-Místek</td>\n      <td>1.0</td>\n      <td>0.0</td>\n      <td>0.0</td>\n      <td>0.0</td>\n      <td>1.0</td>\n      <td>0.0</td>\n      <td>0.0</td>\n      <td>0.0</td>\n      <td>0.0</td>\n      <td>...</td>\n      <td>0.0</td>\n      <td>0.0</td>\n      <td>0.0</td>\n      <td>0.0</td>\n      <td>0.0</td>\n      <td>1.0</td>\n      <td>0.0</td>\n      <td>0.0</td>\n      <td>1.0</td>\n      <td>0.0</td>\n    </tr>\n    <tr>\n      <th>1</th>\n      <td>Havířov</td>\n      <td>0.0</td>\n      <td>0.0</td>\n      <td>0.0</td>\n      <td>0.0</td>\n      <td>0.0</td>\n      <td>0.0</td>\n      <td>0.0</td>\n      <td>0.0</td>\n      <td>0.0</td>\n      <td>...</td>\n      <td>0.0</td>\n      <td>0.0</td>\n      <td>0.0</td>\n      <td>0.0</td>\n      <td>0.0</td>\n      <td>0.0</td>\n      <td>0.0</td>\n      <td>0.0</td>\n      <td>0.0</td>\n      <td>0.0</td>\n    </tr>\n    <tr>\n      <th>2</th>\n      <td>Hradec Králové</td>\n      <td>0.0</td>\n      <td>0.0</td>\n      <td>0.0</td>\n      <td>1.0</td>\n      <td>0.0</td>\n      <td>0.0</td>\n      <td>0.0</td>\n      <td>1.0</td>\n      <td>0.0</td>\n      <td>...</td>\n      <td>0.0</td>\n      <td>0.0</td>\n      <td>0.0</td>\n      <td>1.0</td>\n      <td>1.0</td>\n      <td>1.0</td>\n      <td>0.0</td>\n      <td>1.0</td>\n      <td>0.0</td>\n      <td>0.0</td>\n    </tr>\n    <tr>\n      <th>3</th>\n      <td>Jihlava</td>\n      <td>0.0</td>\n      <td>0.0</td>\n      <td>0.0</td>\n      <td>0.0</td>\n      <td>0.0</td>\n      <td>0.0</td>\n      <td>0.0</td>\n      <td>1.0</td>\n      <td>1.0</td>\n      <td>...</td>\n      <td>0.0</td>\n      <td>0.0</td>\n      <td>0.0</td>\n      <td>0.0</td>\n      <td>0.0</td>\n      <td>0.0</td>\n      <td>1.0</td>\n      <td>0.0</td>\n      <td>0.0</td>\n      <td>0.0</td>\n    </tr>\n    <tr>\n      <th>4</th>\n      <td>Karviná</td>\n      <td>1.0</td>\n      <td>0.0</td>\n      <td>0.0</td>\n      <td>0.0</td>\n      <td>0.0</td>\n      <td>0.0</td>\n      <td>0.0</td>\n      <td>0.0</td>\n      <td>0.0</td>\n      <td>...</td>\n      <td>1.0</td>\n      <td>1.0</td>\n      <td>0.0</td>\n      <td>0.0</td>\n      <td>0.0</td>\n      <td>0.0</td>\n      <td>0.0</td>\n      <td>0.0</td>\n      <td>1.0</td>\n      <td>0.0</td>\n    </tr>\n  </tbody>\n</table>\n<p>5 rows × 312 columns</p>\n</div>"
     },
     "metadata": {},
     "execution_count": 174
    }
   ],
   "source": [
    "categories = venues['categories'].drop_duplicates().values\n",
    "venues_pivot = venues[['City', 'categories']].pivot_table(index='City', columns= 'categories', aggfunc=np.count_nonzero).fillna(0)/2\n",
    "venues_pivot = pd.DataFrame(venues_pivot.to_records())\n",
    "venues_pivot.head()"
   ]
  },
  {
   "cell_type": "code",
   "execution_count": 173,
   "metadata": {},
   "outputs": [],
   "source": [
    "from sklearn.cluster import KMeans "
   ]
  },
  {
   "cell_type": "code",
   "execution_count": 187,
   "metadata": {},
   "outputs": [],
   "source": [
    "kclusters = 4\n",
    "\n",
    "# run k-means clustering\n",
    "kmeans = KMeans(n_clusters=kclusters, random_state=0).fit(venues_pivot[venues_pivot.columns[1:]])"
   ]
  },
  {
   "cell_type": "code",
   "execution_count": 188,
   "metadata": {},
   "outputs": [],
   "source": [
    "try:\n",
    "    df.insert(0, 'Cluster Labels', kmeans.labels_)\n",
    "except ValueError as e:\n",
    "    df['Cluster Labels'] = kmeans.labels_"
   ]
  },
  {
   "cell_type": "code",
   "execution_count": 189,
   "metadata": {},
   "outputs": [],
   "source": [
    "import matplotlib.cm as cm\n",
    "import matplotlib.colors as colors"
   ]
  },
  {
   "cell_type": "code",
   "execution_count": 190,
   "metadata": {},
   "outputs": [
    {
     "output_type": "display_data",
     "data": {
      "text/plain": "<branca.element.Figure at 0x1b35cd14550>",
      "text/html": "<iframe src=\"about:blank\" width=\"600\" height=\"400\"style=\"border:none !important;\" data-html=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 onload=\"this.contentDocument.open();this.contentDocument.write(atob(this.getAttribute('data-html')));this.contentDocument.close();\" \"allowfullscreen\" \"webkitallowfullscreen\" \"mozallowfullscreen\"></iframe>"
     },
     "metadata": {}
    }
   ],
   "source": [
    "f2 = folium.Figure(width=600, height=400)\n",
    "my_map2 = folium.Map(location=[lattitude, longitude], zoom_start=6).add_to(f2)\n",
    "\n",
    "# set color scheme for the clusters\n",
    "x = np.arange(kclusters)\n",
    "ys = [i + x + (i*x)**2 for i in range(kclusters)]\n",
    "colors_array = cm.rainbow(np.linspace(0, 1, len(ys)))\n",
    "rainbow = [colors.rgb2hex(i) for i in colors_array]\n",
    "\n",
    "hoods = folium.map.FeatureGroup()\n",
    "for index, row in df.iterrows():\n",
    "    cluster = row['Cluster Labels']\n",
    "    label = '{}'.format(row['City'])\n",
    "    label = folium.Popup(label)\n",
    "    hoods.add_child(\n",
    "        folium.CircleMarker(\n",
    "        [row['lat'],row['lng']],\n",
    "        radius=5,\n",
    "        popup=label,\n",
    "        color=rainbow[cluster-1],\n",
    "        fill=True,\n",
    "        fill_color=rainbow[cluster-1],\n",
    "        fill_opacity=0.7,\n",
    "        parse_html=False)\n",
    "    )\n",
    "\n",
    "my_map2.add_child(hoods)\n",
    "display(f2)"
   ]
  },
  {
   "cell_type": "code",
   "execution_count": null,
   "metadata": {},
   "outputs": [],
   "source": []
  }
 ]
}